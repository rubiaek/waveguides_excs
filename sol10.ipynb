{
 "cells": [
  {
   "metadata": {},
   "cell_type": "markdown",
   "source": "# Q2",
   "id": "9c61451d2a63226b"
  },
  {
   "cell_type": "code",
   "id": "initial_id",
   "metadata": {
    "collapsed": true,
    "ExecuteTime": {
     "end_time": "2025-01-16T09:41:24.201123Z",
     "start_time": "2025-01-16T09:41:24.042069Z"
    }
   },
   "source": [
    "import numpy as np \n",
    "import matplotlib.pyplot as plt\n",
    "\n",
    "B1 = 0.6965325 \n",
    "B2 = 0.4083099 \n",
    "B3 = 0.8968766 \n",
    "C1 = 4.368309e-03 \n",
    "C2 = 1.394999e-02 \n",
    "C3 = 9.793399e+01\n",
    "Bs = np.array([B1, B2, B3])\n",
    "Cs = np.array([C1, C2, C3])\n",
    "\n",
    "B1g = 0.7083952 \n",
    "B2g = 0.4203993 \n",
    "B3g = 0.8663412 \n",
    "C1g = 7.290464e-03 \n",
    "C2g = 1.050294e-02 \n",
    "C3g = 9.793428e+01\n",
    "Bgs = np.array([B1g, B2g, B3g])\n",
    "Cgs = np.array([C1g, C2g, C3g])\n",
    "\n",
    "def get_n(wl, x):\n",
    "    wl = np.atleast_1d(wl)\n",
    "\n",
    "    B = (Bs + x * (Bgs - Bs))\n",
    "    C = (Cs + x * (Cgs - Cs))\n",
    "    B = B[:, np.newaxis]\n",
    "    C = C[:, np.newaxis]\n",
    "    wl2 = wl**2\n",
    "    wl2 = wl2[np.newaxis, :]\n",
    "    num = B * wl2\n",
    "    denum = wl2 - C\n",
    "    sellmeier_sum = (num / denum).sum(axis=0)\n",
    "    \n",
    "    return np.sqrt(1 + sellmeier_sum)\n",
    "\n",
    "wls = np.linspace(0.4, 2.4, 100)\n",
    "fig, ax = plt.subplots(constrained_layout=True, figsize=(9, 5))\n",
    "ax.plot(wls, get_n(wls, x=0), label='x=0')\n",
    "ax.plot(wls, get_n(wls, x=0.5), label='x=0.5')\n",
    "ax.plot(wls, get_n(wls, x=1), label='x=1')\n",
    "ax.set_xlabel('Wavelength (um)', fontsize=14)\n",
    "ax.set_ylabel('refractive index', fontsize=14)\n",
    "ax.legend()\n",
    "fig.show()"
   ],
   "outputs": [],
   "execution_count": 16
  },
  {
   "metadata": {},
   "cell_type": "markdown",
   "source": "# Q3 ",
   "id": "36615dc1a080b9c8"
  },
  {
   "metadata": {
    "ExecuteTime": {
     "end_time": "2025-01-16T11:03:42.380521Z",
     "start_time": "2025-01-16T11:03:42.282026Z"
    }
   },
   "cell_type": "code",
   "source": [
    "wl = 1.55  # um\n",
    "k0 = 2*np.pi / wl  # 1 / um \n",
    "a = 4.4  # um \n",
    "\n",
    "n0 = get_n(wl, x=0)[0]\n",
    "n1 = get_n([wl], x=0.5)[0]\n",
    "V = k0*a*np.sqrt(n1**2 - n0**2)\n",
    "\n",
    "print(f'{n0=}')\n",
    "print(f'{n1=}')\n",
    "print(f'{V=}')"
   ],
   "id": "656106f45b116536",
   "outputs": [
    {
     "name": "stdout",
     "output_type": "stream",
     "text": [
      "n0=1.4442785377765517\n",
      "n1=1.4486114568577975\n",
      "V=1.996903580324177\n"
     ]
    }
   ],
   "execution_count": 21
  },
  {
   "metadata": {
    "ExecuteTime": {
     "end_time": "2025-01-16T11:34:31.007127Z",
     "start_time": "2025-01-16T11:34:30.831148Z"
    }
   },
   "cell_type": "code",
   "source": [
    "from scipy.special import j0 as J0, j1 as J1, k0 as K0, k1 as K1\n",
    "from scipy.optimize import fsolve\n",
    "\n",
    "# this needs to be zero \n",
    "def kappa_eq(kappa):\n",
    "    # Avoid division by zero if kappa is near zero\n",
    "    # (In practice, for LP01, we wouldn't expect kappa=0 to be the solution anyway)\n",
    "    if abs(kappa) < 1e-15:\n",
    "        return 1e15  # large number, effectively not the root we want\n",
    "    \n",
    "    gamma = np.sqrt((k0**2 * (n1**2 - n0**2)) - kappa**2)\n",
    "    LHS = J0(kappa*a) / (kappa*a * J1(kappa*a))\n",
    "    RHS = K0(gamma*a) / (gamma*a * K1(gamma*a))\n",
    "    \n",
    "    return LHS - RHS \n",
    "\n",
    "def plot_LHS_RHS(kappa_min, kappa_max, num_points=1000):\n",
    "    kappa_values = np.linspace(kappa_min, kappa_max, num_points)\n",
    "    LHS = []\n",
    "    RHS = []\n",
    "    \n",
    "    for kappa in kappa_values:\n",
    "        try:\n",
    "            gamma_sq = (k0**2 * (n1**2 - n0**2)) - kappa**2\n",
    "            if gamma_sq < 0:\n",
    "                LHS.append(np.nan)\n",
    "                RHS.append(np.nan)\n",
    "                continue\n",
    "            gamma = np.sqrt(gamma_sq)\n",
    "            lhs_val = J0(kappa * a) / (kappa * a * J1(kappa * a))\n",
    "            rhs_val = K0(gamma * a) / (gamma * a * K1(gamma * a))\n",
    "            LHS.append(lhs_val)\n",
    "            RHS.append(rhs_val)\n",
    "        except:\n",
    "            LHS.append(np.nan)\n",
    "            RHS.append(np.nan)\n",
    "    \n",
    "    fig, ax = plt.subplots(figsize=(8, 6))\n",
    "    ax.plot(kappa_values, LHS, label='LHS: $J_0(\\\\kappa a)/(\\\\kappa a J_1(\\\\kappa a))$')\n",
    "    ax.plot(kappa_values, RHS, label='RHS: $K_0(\\\\gamma a)/(\\\\gamma a K_1(\\\\gamma a))$')\n",
    "    ax.set_xlabel(r'$\\kappa$ (1/μm)')\n",
    "    ax.set_ylabel('Function Value')\n",
    "    ax.set_title('Characteristic Equation for LP$_{01}$ Mode')\n",
    "    ax.legend()\n",
    "    ax.grid(True)\n",
    "    ax.set_ylim(-0.5, 4)  # Adjust as necessary\n",
    "    fig.show()\n",
    " \n",
    "\n",
    "kappa_min = 1e-3\n",
    "kappa_max = k0*np.sqrt(n1**2 - n0**2) + 1e-2\n",
    "plot_LHS_RHS(kappa_min, kappa_max, num_points=100)\n",
    "\n",
    "kappa = fsolve(kappa_eq, x0=0.2)[0]\n",
    "print(f'{kappa=}')\n",
    "beta = np.sqrt(k0**2*n1**2 - kappa**2)\n",
    "print(f'{beta=} 1/um')\n",
    "gamma = np.sqrt(k0**2 * (n1**2 - n0**2) - kappa**2)\n",
    "print(f'{gamma=} 1/um')\n",
    "print(f'{k0*n0=} 1/um')\n",
    "print(f'{k0*n1=} 1/um')"
   ],
   "id": "4df5454790ada461",
   "outputs": [
    {
     "name": "stdout",
     "output_type": "stream",
     "text": [
      "kappa=0.347075450365457\n",
      "beta=5.861923909260839 1/um\n",
      "gamma=0.2924225386466455 1/um\n",
      "k0*n0=5.854625605182224 1/um\n",
      "k0*n1=5.872189820348987 1/um\n"
     ]
    }
   ],
   "execution_count": 38
  },
  {
   "metadata": {
    "ExecuteTime": {
     "end_time": "2025-01-16T11:44:15.772193Z",
     "start_time": "2025-01-16T11:44:15.548599Z"
    }
   },
   "cell_type": "code",
   "source": [
    "fig, ax = plt.subplots()\n",
    "r = np.linspace(0, 12, 1000)\n",
    "normalization = J0(kappa * a) / K0(gamma * a)\n",
    "E = np.where(r <= a, J0(kappa * r), normalization*K0(gamma * r))\n",
    "intensity = np.abs(E)**2 \n",
    "\n",
    "fig, ax = plt.subplots(figsize=(8, 6))\n",
    "ax.plot(r, intensity, label='Intensity |E(r)|²')\n",
    "ax.axvline(a, color='red', linestyle='--', label='Core Radius (a)')\n",
    "ax.set_xlabel('r (μm)')\n",
    "ax.set_ylabel('Intensity')\n",
    "ax.set_title('Intensity Profile of LP$_{01}$ Mode')\n",
    "ax.legend()\n",
    "ax.grid(True)\n",
    "fig.show()"
   ],
   "id": "542545bf026b1d46",
   "outputs": [],
   "execution_count": 42
  },
  {
   "metadata": {},
   "cell_type": "markdown",
   "source": "# Q4",
   "id": "247a9bac588645c2"
  },
  {
   "metadata": {
    "ExecuteTime": {
     "end_time": "2025-01-16T13:02:10.513208Z",
     "start_time": "2025-01-16T13:02:10.337855Z"
    }
   },
   "cell_type": "code",
   "source": [
    "from scipy.optimize import curve_fit\n",
    "\n",
    "gaussian = lambda r, w: np.exp(-r**2/w**2)\n",
    "popt, pcov = curve_fit(gaussian, r, E)\n",
    "w = popt[0]\n",
    "\n",
    "fig, axes = plt.subplots(nrows=1, ncols=2, figsize=(9, 4))\n",
    "axes[0].plot(r, np.abs(E)**2, label='original')\n",
    "axes[0].plot(r, np.abs(gaussian(r, w))**2, '--', label='fit')\n",
    "\n",
    "\n",
    "axes[1].plot(r, np.abs(E)**2, label='original')\n",
    "axes[1].plot(r, np.abs(gaussian(r, w))**2, '--', label='fit')\n",
    "axes[1].set_yscale('log')\n",
    "for ax in axes:\n",
    "    ax.axvline(a, color='red', linestyle='--', label='Core Radius (a)')\n",
    "    ax.legend()\n",
    "    ax.set_xlabel('r (um)')\n",
    "    ax.set_ylabel('Intensity (a.u.)')\n",
    "fig.show()"
   ],
   "id": "899bee984d83222a",
   "outputs": [],
   "execution_count": 54
  },
  {
   "metadata": {
    "ExecuteTime": {
     "end_time": "2025-01-16T13:05:25.384421Z",
     "start_time": "2025-01-16T13:05:25.302845Z"
    }
   },
   "cell_type": "code",
   "source": [
    "print(f'{a=}')\n",
    "print(f'{w=}')\n",
    "print(f'{2*w=}')\n",
    "print(f'{w/a=}')"
   ],
   "id": "935718be8ccaf7f4",
   "outputs": [
    {
     "name": "stdout",
     "output_type": "stream",
     "text": [
      "a=4.4\n",
      "w=5.409109003608509\n",
      "2*w=10.818218007217018\n",
      "w/a=1.2293429553655701\n"
     ]
    }
   ],
   "execution_count": 57
  }
 ],
 "metadata": {
  "kernelspec": {
   "display_name": "Python 3",
   "language": "python",
   "name": "python3"
  },
  "language_info": {
   "codemirror_mode": {
    "name": "ipython",
    "version": 2
   },
   "file_extension": ".py",
   "mimetype": "text/x-python",
   "name": "python",
   "nbconvert_exporter": "python",
   "pygments_lexer": "ipython2",
   "version": "2.7.6"
  }
 },
 "nbformat": 4,
 "nbformat_minor": 5
}
