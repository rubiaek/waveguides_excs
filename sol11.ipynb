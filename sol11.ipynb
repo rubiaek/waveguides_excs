{
 "cells": [
  {
   "metadata": {
    "ExecuteTime": {
     "end_time": "2025-01-26T12:00:29.898369Z",
     "start_time": "2025-01-26T12:00:29.740093Z"
    }
   },
   "cell_type": "code",
   "source": [
    "import numpy as np\n",
    "import matplotlib.pyplot as plt"
   ],
   "id": "3acffb543e16a51",
   "outputs": [],
   "execution_count": 3
  },
  {
   "metadata": {},
   "cell_type": "markdown",
   "source": "# Q1 ",
   "id": "a2d9b7cec83eaebe"
  },
  {
   "metadata": {
    "ExecuteTime": {
     "end_time": "2025-01-26T12:19:54.964602Z",
     "start_time": "2025-01-26T12:19:54.802398Z"
    }
   },
   "cell_type": "code",
   "source": [
    "n1 = 1.48\n",
    "n0 = 1.46\n",
    "a = 5e-6 \n",
    "wl = 1.55e-6 \n",
    "k0 = 2*np.pi/wl \n",
    "\n",
    "Vsqr = k0**2*a**2*(n1**2-n0**2)\n",
    "N_modes = Vsqr/2\n",
    "print(f'{Vsqr=}')\n",
    "print(f'{np.sqrt(Vsqr)=}')\n",
    "print(f'{N_modes=}')\n"
   ],
   "id": "159694fdcd97f6fd",
   "outputs": [
    {
     "name": "stdout",
     "output_type": "stream",
     "text": [
      "Vsqr=24.15536894002315\n",
      "np.sqrt(Vsqr)=4.91481118050563\n",
      "N_modes=12.077684470011574\n"
     ]
    }
   ],
   "execution_count": 7
  },
  {
   "metadata": {},
   "cell_type": "markdown",
   "source": "# Q2 ",
   "id": "2001a83793e8a0fb"
  },
  {
   "metadata": {},
   "cell_type": "markdown",
   "source": "## A ",
   "id": "991575586e6c1b64"
  },
  {
   "metadata": {
    "ExecuteTime": {
     "end_time": "2025-01-26T12:55:39.823084Z",
     "start_time": "2025-01-26T12:55:39.678280Z"
    }
   },
   "cell_type": "code",
   "source": [
    "n0 = 1 \n",
    "n1 = 1.47 \n",
    "wl = 1.3e-6 \n",
    "k0 = 2*np.pi/wl \n",
    "V_des = 2.405 \n",
    "asqr_des = V_des ** 2 / (k0**2*(n1**2-n0**2))\n",
    "print(f'{np.sqrt(asqr_des)=}')"
   ],
   "id": "ed5e6ab9f3536d8",
   "outputs": [
    {
     "name": "stdout",
     "output_type": "stream",
     "text": [
      "np.sqrt(asqr_des)=4.618289559971377e-07\n"
     ]
    }
   ],
   "execution_count": 12
  },
  {
   "metadata": {},
   "cell_type": "markdown",
   "source": "## B ",
   "id": "3f94c01938fb9f1a"
  },
  {
   "metadata": {
    "ExecuteTime": {
     "end_time": "2025-01-26T12:57:17.832857Z",
     "start_time": "2025-01-26T12:57:17.638485Z"
    }
   },
   "cell_type": "code",
   "source": [
    "n0 = 1.451 \n",
    "n1 = 1.4581\n",
    "\n",
    "print('1.5 um')\n",
    "wl = 1.5e-6 \n",
    "k0 = 2*np.pi/wl \n",
    "V_des = 2.405 \n",
    "a_des = np.sqrt(V_des ** 2 / (k0**2*(n1**2-n0**2)))\n",
    "print(f'{a_des=}')\n",
    "\n",
    "V_des = 3.832\n",
    "a_des = np.sqrt(V_des ** 2 / (k0**2*(n1**2-n0**2)))\n",
    "print(f'{a_des=}')\n",
    "\n",
    "print('1.6 um')\n",
    "wl = 1.6e-6 \n",
    "k0 = 2*np.pi/wl \n",
    "V_des = 2.405 \n",
    "a_des = np.sqrt(V_des ** 2 / (k0**2*(n1**2-n0**2)))\n",
    "print(f'{a_des=}')\n",
    "\n",
    "V_des = 3.832\n",
    "a_des = np.sqrt(V_des ** 2 / (k0**2*(n1**2-n0**2)))\n",
    "print(f'{a_des=}')"
   ],
   "id": "fc9e30e6eb32e0d5",
   "outputs": [
    {
     "name": "stdout",
     "output_type": "stream",
     "text": [
      "1.5 um\n",
      "a_des=3.995010930364945e-06\n",
      "a_des=6.365439453288345e-06\n",
      "1.6 um\n",
      "a_des=4.261344992389274e-06\n",
      "a_des=6.789802083507567e-06\n"
     ]
    }
   ],
   "execution_count": 14
  },
  {
   "metadata": {
    "ExecuteTime": {
     "end_time": "2025-01-26T13:00:06.289127Z",
     "start_time": "2025-01-26T13:00:06.138523Z"
    }
   },
   "cell_type": "code",
   "source": [
    "print(6.3654*2)\n",
    "print(4.261*2)"
   ],
   "id": "6c8ffbca6de3db7d",
   "outputs": [
    {
     "name": "stdout",
     "output_type": "stream",
     "text": [
      "12.7308\n",
      "8.522\n"
     ]
    }
   ],
   "execution_count": 15
  }
 ],
 "metadata": {
  "kernelspec": {
   "display_name": "Python 3",
   "language": "python",
   "name": "python3"
  },
  "language_info": {
   "codemirror_mode": {
    "name": "ipython",
    "version": 2
   },
   "file_extension": ".py",
   "mimetype": "text/x-python",
   "name": "python",
   "nbconvert_exporter": "python",
   "pygments_lexer": "ipython2",
   "version": "2.7.6"
  }
 },
 "nbformat": 4,
 "nbformat_minor": 5
}
