{
 "cells": [
  {
   "metadata": {
    "ExecuteTime": {
     "end_time": "2024-11-26T09:48:10.254416Z",
     "start_time": "2024-11-26T09:48:10.100699Z"
    }
   },
   "cell_type": "code",
   "source": [
    "%matplotlib ipympl\n",
    "import numpy as np \n",
    "import matplotlib.pyplot as plt \n",
    "\n",
    "c0 = 3e8 \n",
    "e_r = 2.1\n",
    "n = np.sqrt(e_r)\n",
    "v_phase = c0 / n\n",
    "Z0 = 50 \n",
    "Y0 = 1/Z0 \n",
    "\n",
    "# orig smith \n",
    "# l1 = 0.0528\n",
    "# l2s = 0.0216\n",
    "l2o = 0.816\n",
    "\n",
    "# fixed empirically \n",
    "l1 = 0.0552\n",
    "l2s = 0.0245\n",
    "\n",
    "def cot(x):\n",
    "    return np.cos(x) / np.sin(x)\n",
    "\n",
    "def Z_at_z(Z_L, Z0, beta, l):\n",
    "    return (Z0 * ( Z_L*np.cos(beta*l) + 1j*Z0*np.sin(beta*l) ) / \n",
    "                  ( Z0*np.cos(beta*l) + 1j*Z_L*np.sin(beta*l) ) )\n",
    "\n",
    "def get_rho(f, short=True):\n",
    "    w = 2*np.pi*f\n",
    "    beta = w / v_phase\n",
    "    Z_L = 78 + 1j*(80 + 1e-6*0.25*(f-850e6))   \n",
    "    Z_in = Z_at_z(Z_L, Z0, beta, l1)\n",
    "    Y_in = 1/Z_in \n",
    "    \n",
    "    if short:\n",
    "        Y_ins = -1j*Y0*cot(beta*l2s)\n",
    "        Y_final = Y_in + Y_ins \n",
    "    else:\n",
    "        Y_ino = 1j*Y0*np.tan(beta*l2o)\n",
    "        Y_final = Y_in + Y_ino \n",
    "     \n",
    "    Z_final = 1/Y_final    \n",
    "    \n",
    "    rho = (Z_final - Z0) / (Z_final + Z0)\n",
    "    return np.abs(rho)**2"
   ],
   "id": "47de9214899b7cfd",
   "outputs": [],
   "execution_count": 4
  },
  {
   "metadata": {
    "ExecuteTime": {
     "end_time": "2024-11-26T09:48:13.349891Z",
     "start_time": "2024-11-26T09:48:13.340316Z"
    }
   },
   "cell_type": "code",
   "source": [
    "f = 850e6\n",
    "rho_short = get_rho(f, short=True)\n",
    "rho_open = get_rho(f, short=False)\n",
    "print(f'{rho_open=}')\n",
    "print(f'{rho_short=}')"
   ],
   "id": "46c4daf492a4d674",
   "outputs": [
    {
     "name": "stdout",
     "output_type": "stream",
     "text": [
      "rho_open=2.5357156107317975e-05\n",
      "rho_short=1.6979199120659158e-05\n"
     ]
    }
   ],
   "execution_count": 5
  },
  {
   "metadata": {
    "ExecuteTime": {
     "end_time": "2024-11-26T09:48:50.977199Z",
     "start_time": "2024-11-26T09:48:50.213473Z"
    }
   },
   "cell_type": "code",
   "source": [
    "f = np.linspace(800e6, 900e6, int(1e6))\n",
    "rho_short = get_rho(f, short=True)\n",
    "rho_open = get_rho(f, short=False)\n",
    "\n",
    "fig, axes = plt.subplots(1, 2)\n",
    "axes[0].plot(f*1e-6, 10*np.log10(rho_short))\n",
    "axes[0].set_title('short fix')\n",
    "axes[1].plot(f*1e-6, 10*np.log10(rho_open))\n",
    "axes[1].set_title('open fix')\n",
    "axes[0].set_xlabel('frequency (MHz)')\n",
    "axes[1].set_xlabel('frequency (MHz)')\n",
    "axes[1].set_ylabel(r'$|\\rho|^2$ [DB]')\n",
    "axes[0].set_ylabel(r'$|\\rho|^2$ [DB]')"
   ],
   "id": "c5c4023c614f8cd7",
   "outputs": [],
   "execution_count": 7
  }
 ],
 "metadata": {
  "kernelspec": {
   "display_name": "Python 3",
   "language": "python",
   "name": "python3"
  },
  "language_info": {
   "codemirror_mode": {
    "name": "ipython",
    "version": 2
   },
   "file_extension": ".py",
   "mimetype": "text/x-python",
   "name": "python",
   "nbconvert_exporter": "python",
   "pygments_lexer": "ipython2",
   "version": "2.7.6"
  }
 },
 "nbformat": 4,
 "nbformat_minor": 5
}
