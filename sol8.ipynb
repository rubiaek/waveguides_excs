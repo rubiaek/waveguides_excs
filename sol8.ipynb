{
 "cells": [
  {
   "metadata": {},
   "cell_type": "markdown",
   "source": [
    "# Waveguides - Ex8\n",
    "\n",
    "### Ronen shekel\n",
    "\n",
    "### ID 309987493 "
   ],
   "id": "837cdd5ad0a58797"
  },
  {
   "metadata": {},
   "cell_type": "code",
   "outputs": [],
   "execution_count": null,
   "source": [
    "import numpy as np \n",
    "import matplotlib.pyplot as plt "
   ],
   "id": "ef9a0529be5c221d"
  },
  {
   "metadata": {},
   "cell_type": "markdown",
   "source": [
    "# Q1\n",
    "## A \n",
    "Given a rectangular waveguide, find $\\kappa_x, \\kappa_y, \\gamma_x, \\gamma_y$, and also $\\beta$ according to both Marcatili and Kumar.  "
   ],
   "id": "5f3b76c5ac71e3b9"
  },
  {
   "cell_type": "code",
   "execution_count": null,
   "id": "initial_id",
   "metadata": {
    "collapsed": true
   },
   "outputs": [],
   "source": [
    "a = 2.5e-6\n",
    "b = 3e-6 \n",
    "n1 = 1.5\n",
    "n0 = 1.47\n",
    "wl = 1.55e-6"
   ]
  },
  {
   "metadata": {},
   "cell_type": "markdown",
   "source": [
    "## B\n",
    "Draw the spatial distribution according to Kumar, together with the area of actual rectangular waveguide"
   ],
   "id": "708f72a752c9edde"
  },
  {
   "metadata": {},
   "cell_type": "code",
   "outputs": [],
   "execution_count": null,
   "source": "pass",
   "id": "9bb08fce27cba6dd"
  },
  {
   "metadata": {},
   "cell_type": "markdown",
   "source": [
    "## C\n",
    "Find the b parameter from $n_{eff}$ and check whether all modes we found  are actually conducting.  "
   ],
   "id": "ffbc954654306c2b"
  },
  {
   "metadata": {},
   "cell_type": "code",
   "outputs": [],
   "execution_count": null,
   "source": "pass",
   "id": "b4ba8a19d06b4f6b"
  },
  {
   "metadata": {},
   "cell_type": "markdown",
   "source": [
    "# Q2\n",
    "## A\n",
    "Calculate the basic mode according to Kumar , for $h$ values of 4,5,6,7,8 $\\mu m$, where $h$ is the size of a side. "
   ],
   "id": "fb9bb7a06e0b6cbd"
  },
  {
   "metadata": {},
   "cell_type": "code",
   "outputs": [],
   "execution_count": null,
   "source": [
    "hs = np.arange(4,9) * 1e-6\n",
    "n0 = 1.458\n",
    "n1 = 1.47 \n",
    "wl = 1.55e-6 \n",
    "\n",
    "for h in hs:\n",
    "    pass"
   ],
   "id": "3216f58613a2a785"
  }
 ],
 "metadata": {
  "kernelspec": {
   "display_name": "Python 3",
   "language": "python",
   "name": "python3"
  },
  "language_info": {
   "codemirror_mode": {
    "name": "ipython",
    "version": 2
   },
   "file_extension": ".py",
   "mimetype": "text/x-python",
   "name": "python",
   "nbconvert_exporter": "python",
   "pygments_lexer": "ipython2",
   "version": "2.7.6"
  }
 },
 "nbformat": 4,
 "nbformat_minor": 5
}
