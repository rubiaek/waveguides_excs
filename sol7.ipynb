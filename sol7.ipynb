{
 "cells": [
  {
   "cell_type": "code",
   "id": "initial_id",
   "metadata": {
    "collapsed": true
   },
   "source": [
    "import numpy as np \n",
    "import matplotlib.pyplot as plt\n",
    "%matplotlib ipympl"
   ],
   "outputs": [],
   "execution_count": null
  },
  {
   "metadata": {},
   "cell_type": "markdown",
   "source": "# 3B",
   "id": "14739ed9e8281c3d"
  },
  {
   "metadata": {},
   "cell_type": "code",
   "source": [
    "X = np.linspace(-0.5, 1.5, 500)\n",
    "kappa = np.pi/2 \n",
    "Ey = np.sin(kappa*X)\n",
    "Ey[X<0] = 0\n",
    "Ey[X>1] = 0\n",
    "\n",
    "Hz = np.cos(kappa*X)\n",
    "Hz[X<0] = 0\n",
    "Hz[X>1] = 0\n",
    "\n",
    "fig, ax = plt.subplots()\n",
    "ax.plot(X, np.abs(Ey)**2, label='Ey')\n",
    "ax.plot(X, np.abs(Hz)**2, label='Hz')\n",
    "ax.legend()\n",
    "ax.set_xlabel('x (a.u.)')\n",
    "ax.set_ylabel('Intensity (a.u.)')"
   ],
   "id": "1619524b5ce20e91",
   "outputs": [],
   "execution_count": null
  },
  {
   "metadata": {},
   "cell_type": "markdown",
   "source": "# 3C",
   "id": "e401fdc50bdbdacd"
  },
  {
   "metadata": {},
   "cell_type": "code",
   "source": [
    "X = np.linspace(-0.5, 1.5, 500)\n",
    "kappa = np.pi/2 \n",
    "Ez = np.sin(kappa*X)\n",
    "Ez[X<0] = 0\n",
    "Ez[X>1] = 0\n",
    "\n",
    "Hy = np.cos(kappa*X)\n",
    "Hy[X<0] = 0\n",
    "Hy[X>1] = 0\n",
    "\n",
    "fig, ax = plt.subplots()\n",
    "ax.plot(X, np.abs(Ez)**2, label='Ez')\n",
    "ax.plot(X, np.abs(Hy)**2, label='Hy')\n",
    "ax.legend()\n",
    "ax.set_xlabel('x (a.u.)')\n",
    "ax.set_ylabel('Intensity (a.u.)')"
   ],
   "id": "ed0b03887dd72afb",
   "outputs": [],
   "execution_count": null
  }
 ],
 "metadata": {
  "kernelspec": {
   "display_name": "Python 3",
   "language": "python",
   "name": "python3"
  },
  "language_info": {
   "codemirror_mode": {
    "name": "ipython",
    "version": 2
   },
   "file_extension": ".py",
   "mimetype": "text/x-python",
   "name": "python",
   "nbconvert_exporter": "python",
   "pygments_lexer": "ipython2",
   "version": "2.7.6"
  }
 },
 "nbformat": 4,
 "nbformat_minor": 5
}
