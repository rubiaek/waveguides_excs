{
 "cells": [
  {
   "cell_type": "code",
   "id": "initial_id",
   "metadata": {
    "collapsed": true,
    "ExecuteTime": {
     "end_time": "2024-11-26T07:10:57.285428Z",
     "start_time": "2024-11-26T07:10:57.192199Z"
    }
   },
   "source": [
    "import numpy as np \n",
    "pi = np.pi \n",
    "\n",
    "eps0 = 8.854e-12\n",
    "mu0 = 4*pi*1e-7\n",
    "c0 = 3e8\n",
    "\n",
    "\n",
    "f = 850e6\n",
    "w = 2*np.pi*f\n",
    "e_r = 2.1\n",
    "n = np.sqrt(e_r)\n",
    "v_phase = c0 / n \n",
    "beta = w / v_phase  \n",
    "wl = v_phase / f\n",
    "print(f'{beta=}')\n",
    "print(f'{wl=}')\n",
    "\n",
    "l = 5 "
   ],
   "outputs": [
    {
     "name": "stdout",
     "output_type": "stream",
     "text": [
      "beta=25.798068211530737\n",
      "wl=0.243552550356125\n"
     ]
    }
   ],
   "execution_count": 2
  },
  {
   "metadata": {
    "ExecuteTime": {
     "end_time": "2024-11-26T07:29:47.229111Z",
     "start_time": "2024-11-26T07:29:47.150543Z"
    }
   },
   "cell_type": "code",
   "source": [
    "def Z_at_z(Z_L, Z0, beta, l):\n",
    "    return (Z0 * ( Z_L*np.cos(beta*l) + 1j*Z0*np.sin(beta*l) ) / \n",
    "                  ( Z0*np.cos(beta*l) + 1j*Z_L*np.sin(beta*l) ) )\n",
    "\n",
    "Z_L = 78 + 80j\n",
    "Z0 = 50\n",
    "Z_in = Z_at_z(Z_L=Z_L, Z0=Z0, beta=beta, l=l)\n",
    "print(f'{Z_in=}')\n",
    "\n",
    "def calc_rho(Z_L, Z0):\n",
    "    return (Z_L - Z0) / (Z_L + Z0)\n",
    "\n",
    "rho = calc_rho(Z_L=Z_in, Z0=Z0)\n",
    "print(f'{rho=}')\n",
    "print(f'{np.abs(rho)=}')\n",
    "\n",
    "V0 = 100\n",
    "V_plus = V0*(Z_in / (Z_in+Z0))\n",
    "print(f'{V_plus=}')\n",
    "print(f'{np.abs(V_plus)=}')\n",
    "\n",
    "W_plus = (np.abs(V_plus)**2) / (2*Z_in)\n",
    "print(f'{W_plus=}')\n",
    "print(f'{np.abs(W_plus)=}')\n",
    "print(f'{np.abs(W_plus)*(1-np.abs(rho)**2)=}')"
   ],
   "id": "d5fe2ff6d3595fb8",
   "outputs": [
    {
     "name": "stdout",
     "output_type": "stream",
     "text": [
      "Z_in=(140.16700876753583+69.13502325154559j)\n",
      "rho=(0.5355339224199887+0.16885617164174502j)\n",
      "np.abs(rho)=0.5615238096145567\n",
      "V_plus=(76.77669612099943+8.442808582087249j)\n",
      "np.abs(V_plus)=77.2395111585389\n",
      "W_plus=(17.117275280898877-8.44280858208725j)\n",
      "np.abs(W_plus)=19.08617640586605\n",
      "np.abs(W_plus)*(1-np.abs(rho)**2)=13.06813342396025\n"
     ]
    }
   ],
   "execution_count": 11
  },
  {
   "metadata": {},
   "cell_type": "markdown",
   "source": "B ",
   "id": "4a1e15709cce8000"
  },
  {
   "metadata": {
    "ExecuteTime": {
     "end_time": "2024-11-26T07:49:45.457946Z",
     "start_time": "2024-11-26T07:49:45.363789Z"
    }
   },
   "cell_type": "code",
   "source": [
    "ZL = 78+80j\n",
    "YL = 1/ZL \n",
    "Z0 = 50\n",
    "Y0 = 1/Z0\n",
    "\n",
    "l1 = 0.0528\n",
    "l2 = 0.0216\n",
    "\n",
    "# l1 = 0.0552\n",
    "# l2 = 0.0245\n",
    "print(rf'{YL=}')\n",
    "Y_in = Z_at_z(YL, Y0, beta, l1)\n",
    "print(f'{Y_in=}')\n",
    "\n",
    "def cot(x):\n",
    "    return np.cos(x) / np.sin(x)\n",
    "\n",
    "Y_ins = -1j*Y0*cot(beta*l2)\n",
    "print(f'{Y_ins=}')\n",
    "\n",
    "print(f'{Y_in + Y_ins}')\n",
    "print(f'{Y0}')\n",
    "\n",
    "l2o = 0.816\n",
    "Y_ino = 1j*Y0*np.tan(beta*l2o)\n",
    "print(f'{Y_ino=}')\n",
    "print(f'{Y_in + Y_ino=}')"
   ],
   "id": "856975fc23317a80",
   "outputs": [
    {
     "name": "stdout",
     "output_type": "stream",
     "text": [
      "YL=(0.006247997436718999-0.006408202499198974j)\n",
      "Y_in=(0.017144176808935364+0.02496904746508449j)\n",
      "Y_ins=-0.03209711773866247j\n",
      "(0.017144176808935364-0.007128070273577983j)\n",
      "0.02\n",
      "Y_ino=(-0-0.027380372946149093j)\n",
      "Y_in + Y_ino=(0.017144176808935364-0.0024113254810646037j)\n"
     ]
    }
   ],
   "execution_count": 43
  }
 ],
 "metadata": {
  "kernelspec": {
   "display_name": "Python 3",
   "language": "python",
   "name": "python3"
  },
  "language_info": {
   "codemirror_mode": {
    "name": "ipython",
    "version": 2
   },
   "file_extension": ".py",
   "mimetype": "text/x-python",
   "name": "python",
   "nbconvert_exporter": "python",
   "pygments_lexer": "ipython2",
   "version": "2.7.6"
  }
 },
 "nbformat": 4,
 "nbformat_minor": 5
}
