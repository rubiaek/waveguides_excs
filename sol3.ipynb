{
 "cells": [
  {
   "cell_type": "code",
   "execution_count": null,
   "id": "initial_id",
   "metadata": {
    "collapsed": true
   },
   "outputs": [],
   "source": [
    "import numpy as np \n",
    "pi = np.pi \n",
    "\n",
    "eps0 = 8.854e-12\n",
    "mu0 = 4*pi*1e-7\n",
    "\n"
   ]
  },
  {
   "metadata": {},
   "cell_type": "code",
   "outputs": [],
   "execution_count": null,
   "source": [
    "def Z_at_z(Z_L, Z_0, beta, l):\n",
    "    return (Z_0 * ( Z_L*np.cos(beta*l) + 1j*Z_0*np.sin(beta*l) ) / \n",
    "                  ( Z_0*np.cos(beta*l) + 1j*Z_L*np.sin(beta*l) ) )"
   ],
   "id": "d5fe2ff6d3595fb8"
  }
 ],
 "metadata": {
  "kernelspec": {
   "display_name": "Python 3",
   "language": "python",
   "name": "python3"
  },
  "language_info": {
   "codemirror_mode": {
    "name": "ipython",
    "version": 2
   },
   "file_extension": ".py",
   "mimetype": "text/x-python",
   "name": "python",
   "nbconvert_exporter": "python",
   "pygments_lexer": "ipython2",
   "version": "2.7.6"
  }
 },
 "nbformat": 4,
 "nbformat_minor": 5
}
