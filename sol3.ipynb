{
 "cells": [
  {
   "cell_type": "code",
   "id": "initial_id",
   "metadata": {
    "collapsed": true,
    "ExecuteTime": {
     "end_time": "2024-11-24T10:37:21.824606Z",
     "start_time": "2024-11-24T10:37:21.813916Z"
    }
   },
   "source": [
    "import numpy as np \n",
    "pi = np.pi \n",
    "\n",
    "eps0 = 8.854e-12\n",
    "mu0 = 4*pi*1e-7\n",
    "c0 = 3e8\n",
    "\n",
    "\n",
    "f = 850e6\n",
    "w = 2*np.pi*f\n",
    "e_r = 2.1\n",
    "n = np.sqrt(e_r)\n",
    "v_phase = c0 / n \n",
    "beta = w / v_phase  \n",
    "wl = v_phase / f\n",
    "print(f'{beta=}')\n",
    "print(f'{wl=}')\n",
    "\n",
    "l = 5 "
   ],
   "outputs": [
    {
     "name": "stdout",
     "output_type": "stream",
     "text": [
      "beta=25.798068211530737\n",
      "wl=0.243552550356125\n"
     ]
    }
   ],
   "execution_count": 6
  },
  {
   "metadata": {
    "ExecuteTime": {
     "end_time": "2024-11-24T11:21:32.612808Z",
     "start_time": "2024-11-24T11:21:32.597602Z"
    }
   },
   "cell_type": "code",
   "source": [
    "def Z_at_z(Z_L, Z0, beta, l):\n",
    "    return (Z0 * ( Z_L*np.cos(beta*l) + 1j*Z0*np.sin(beta*l) ) / \n",
    "                  ( Z0*np.cos(beta*l) + 1j*Z_L*np.sin(beta*l) ) )\n",
    "\n",
    "Z_L = 78 + 80j\n",
    "Z0 = 50\n",
    "Z_in = Z_at_z(Z_L=Z_L, Z0=Z0, beta=beta, l=l)\n",
    "print(f'{Z_in=}')\n",
    "\n",
    "def calc_rho(Z_L, Z0):\n",
    "    return (Z_L - Z0) / (Z_L + Z0)\n",
    "\n",
    "rho = calc_rho(Z_L=Z_in, Z0=Z0)\n",
    "print(f'{rho=}')\n",
    "print(f'{np.abs(rho)=}')\n",
    "\n",
    "V0 = 100\n",
    "V_plus = V0*(Z_in / (Z_in+Z0))\n",
    "print(f'{V_plus=}')\n",
    "print(f'{np.abs(V_plus)=}')\n",
    "\n",
    "W_plus = (np.abs(V_plus)**2) / (2*Z_in)\n",
    "print(f'{W_plus=}')\n",
    "print(f'{np.abs(W_plus)=}')\n",
    "print(f'{np.abs(W_plus)*(1-np.abs(rho)**2)=}')"
   ],
   "id": "d5fe2ff6d3595fb8",
   "outputs": [
    {
     "name": "stdout",
     "output_type": "stream",
     "text": [
      "Z_in=(140.16700876753586+69.13502325154559j)\n",
      "rho=(0.5355339224199888+0.16885617164174496j)\n",
      "np.abs(rho)=0.5615238096145567\n",
      "V_plus=(76.77669612099945+8.442808582087249j)\n",
      "np.abs(V_plus)=77.23951115853892\n",
      "W_plus=(17.11727528089888-8.44280858208725j)\n",
      "np.abs(W_plus)=19.086176405866052\n",
      "np.abs(W_plus)*(1-np.abs(rho)**2)=13.068133423960251\n"
     ]
    }
   ],
   "execution_count": 14
  }
 ],
 "metadata": {
  "kernelspec": {
   "display_name": "Python 3",
   "language": "python",
   "name": "python3"
  },
  "language_info": {
   "codemirror_mode": {
    "name": "ipython",
    "version": 2
   },
   "file_extension": ".py",
   "mimetype": "text/x-python",
   "name": "python",
   "nbconvert_exporter": "python",
   "pygments_lexer": "ipython2",
   "version": "2.7.6"
  }
 },
 "nbformat": 4,
 "nbformat_minor": 5
}
