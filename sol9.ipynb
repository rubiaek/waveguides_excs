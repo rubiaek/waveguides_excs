{
 "cells": [
  {
   "metadata": {},
   "cell_type": "markdown",
   "source": "# Q1 ",
   "id": "e243f90bc8e00953"
  },
  {
   "metadata": {
    "ExecuteTime": {
     "end_time": "2025-01-09T07:51:53.721180Z",
     "start_time": "2025-01-09T07:51:53.706514Z"
    }
   },
   "cell_type": "code",
   "source": [
    "import numpy as np\n",
    "def fc(a, b, m, n, c):\n",
    "    return (c/2)*np.sqrt((m/a)**2 + (n/b)**2)\n",
    "\n",
    "a = 22e-3 \n",
    "b = 12e-3\n",
    "\n",
    "fc10 = fc(a,b,1,0,3e8)\n",
    "fc01 = fc(a,b,0,1,3e8)\n",
    "fc11 = fc(a,b,1,1,3e8)\n",
    "fc20 = fc(a,b,2,0,3e8)\n",
    "print(f'{fc10*1e-9=}')\n",
    "print(f'{fc01*1e-9=}')\n",
    "print(f'{fc11*1e-9=}')\n",
    "print(f'{fc20*1e-9=}')\n",
    "print()\n",
    "\n",
    "fc10er = fc(a,b,1,0,3e8/np.sqrt(2.25))\n",
    "fc11er = fc(a,b,1,1,3e8/np.sqrt(2.25))\n",
    "fc20er = fc(a,b,2,0,3e8/np.sqrt(2.25))\n",
    "fc01er = fc(a,b,0,1,3e8/np.sqrt(2.25))\n",
    "print(f'{fc10er*1e-9=}')\n",
    "print(f'{fc11er*1e-9=}')\n",
    "print(f'{fc01er*1e-9=}')\n",
    "print(f'{fc20er*1e-9=}')\n",
    "print()\n",
    "\n",
    "# fc10ermetal = fc(a/2,b,1,0,3e8/np.sqrt(2.25))\n",
    "fc10ermetal = fc(a/2,b,1,0,3e8)\n",
    "print(f'{fc10ermetal*1e-9=}')\n"
   ],
   "id": "1e7abbafa42747ef",
   "outputs": [
    {
     "name": "stdout",
     "output_type": "stream",
     "text": [
      "fc10*1e-9=6.818181818181819\n",
      "fc01*1e-9=12.5\n",
      "fc11*1e-9=14.238595552433715\n",
      "fc20*1e-9=13.636363636363638\n",
      "\n",
      "fc10er*1e-9=4.545454545454546\n",
      "fc11er*1e-9=9.49239703495581\n",
      "fc01er*1e-9=8.333333333333334\n",
      "fc20er*1e-9=9.090909090909092\n",
      "\n",
      "fc10ermetal*1e-9=13.636363636363638\n"
     ]
    }
   ],
   "execution_count": 12
  },
  {
   "metadata": {},
   "cell_type": "markdown",
   "source": "# Q2",
   "id": "d15414d6ee81905b"
  },
  {
   "metadata": {
    "ExecuteTime": {
     "end_time": "2025-01-09T08:18:26.094060Z",
     "start_time": "2025-01-09T08:18:26.082676Z"
    }
   },
   "cell_type": "code",
   "source": [
    "import numpy as np\n",
    "def fc(a, b, m, n, c):\n",
    "    return (c/2)*np.sqrt((m/a)**2 + (n/b)**2)\n",
    "\n",
    "a = 15e-3\n",
    "b = 8e-3 \n",
    "fc13 = fc(a,b,1,3,3e8/np.sqrt(4))\n",
    "print(f'{fc13*1e-9=}')\n",
    "\n",
    "w = np.pi*1e11\n",
    "c = 3e8/2 \n",
    "beta = w/c\n",
    "print(f'{beta=}')\n",
    "f = w/(2*np.pi)\n",
    "print(f'{f=}')\n",
    "beta_z = beta*np.sqrt(1-(fc13/f)**2)\n",
    "print(f'{beta_z=}')"
   ],
   "id": "2391c1dcff7aceed",
   "outputs": [
    {
     "name": "stdout",
     "output_type": "stream",
     "text": [
      "fc13*1e-9=28.5659872050661\n",
      "beta=2094.3951023931954\n",
      "f=50000000000.0\n",
      "beta_z=1718.9278104609648\n"
     ]
    }
   ],
   "execution_count": 16
  },
  {
   "metadata": {},
   "cell_type": "markdown",
   "source": "# Q3 ",
   "id": "2084a13008571093"
  },
  {
   "metadata": {
    "ExecuteTime": {
     "end_time": "2025-01-09T08:43:31.540707Z",
     "start_time": "2025-01-09T08:43:31.530142Z"
    }
   },
   "cell_type": "code",
   "source": [
    "c = 3e8/2 \n",
    "a = c/(2*9e9)\n",
    "print(f'{a=}')\n",
    "\n",
    "print(f'{1.5e8/14e9}')\n",
    "\n",
    "b = 1.5e8/28e9\n",
    "print(f'{b=}')\n",
    "\n",
    "a = 8.5e-3 \n",
    "b = 5e-3 \n",
    "fc_final = fc(a, b, 1, 1, 3e8/2)\n",
    "print(f'{fc_final*1e-9=}')"
   ],
   "id": "636600c63883addb",
   "outputs": [
    {
     "name": "stdout",
     "output_type": "stream",
     "text": [
      "a=0.008333333333333333\n",
      "0.010714285714285714\n",
      "b=0.005357142857142857\n",
      "fc_final*1e-9=17.402720226455312\n"
     ]
    }
   ],
   "execution_count": 23
  }
 ],
 "metadata": {
  "kernelspec": {
   "display_name": "Python 3",
   "language": "python",
   "name": "python3"
  },
  "language_info": {
   "codemirror_mode": {
    "name": "ipython",
    "version": 2
   },
   "file_extension": ".py",
   "mimetype": "text/x-python",
   "name": "python",
   "nbconvert_exporter": "python",
   "pygments_lexer": "ipython2",
   "version": "2.7.6"
  }
 },
 "nbformat": 4,
 "nbformat_minor": 5
}
