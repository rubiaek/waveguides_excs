{
 "cells": [
  {
   "cell_type": "code",
   "id": "initial_id",
   "metadata": {
    "collapsed": true,
    "ExecuteTime": {
     "end_time": "2024-12-08T17:24:50.004340Z",
     "start_time": "2024-12-08T17:24:49.995196Z"
    }
   },
   "source": [
    "%matplotlib ipympl\n",
    "import numpy as np\n",
    "from numpy import cos, sin, pi, abs \n",
    "import matplotlib.pyplot as plt \n",
    "\n",
    "def brewster(n1, n2):\n",
    "    return np.arctan(n2/n1)\n",
    "\n",
    "def critical(n1, n2):\n",
    "    return np.arcsin(n2/n1)\n",
    "\n",
    "def r_coef_pal(n1, n2, t1, t2):\n",
    "    return (n1*cos(t2) - n2*cos(t1)) / (n1*cos(t2) + n2*cos(t1))\n",
    "\n",
    "def t_coef_pal(n1, n2, t1, t2):\n",
    "    return (2*n1*cos(t1)) / (n1 * cos(t2) + n2 * cos(t1))\n",
    "\n",
    "def r_coef_perp(n1, n2, t1, t2):\n",
    "    return (n1*cos(t1) - n2*cos(t2)) / (n1*cos(t1) + n2*cos(t2))\n",
    "\n",
    "def t_coef_perp(n1, n2, t1, t2):\n",
    "    return (2*n1*cos(t1)) / (n1 * cos(t1) + n2 * cos(t2))\n"
   ],
   "outputs": [],
   "execution_count": 6
  },
  {
   "metadata": {},
   "cell_type": "markdown",
   "source": "# Q3 - fresnel coefficients ",
   "id": "1a42929847163aaf"
  },
  {
   "metadata": {},
   "cell_type": "code",
   "source": [
    "flag = False \n",
    "if flag:\n",
    "    n1s = [1, 1.3, 1.5*0.99]\n",
    "    n2s = [1.5]\n",
    "else:\n",
    "    n1s = [1.5]\n",
    "    n2s = [1, 1.3, 1.5*0.99]\n",
    "\n",
    "theta1s = np.linspace(0, pi/2-0.001, 1000, dtype=np.complex128)\n",
    "fig, axes = plt.subplots(2, 2, constrained_layout=True)\n",
    "for n1 in n1s:\n",
    "    for n2 in n2s:\n",
    "        theta2s = np.ones_like(theta1s, dtype=np.complex128)*np.pi/2  # Allow for complex values\n",
    "        valid = np.sin(theta1s) < (n2/n1)  # Valid range for arcsin \n",
    "        theta2s[valid] = np.arcsin((n1/n2) * np.sin(theta1s[valid]))\n",
    "        # theta2s = np.arcsin((n1/n2) * np.sin(theta1s))\n",
    "        r_pal = r_coef_pal(n1, n2, theta1s, theta2s)\n",
    "        t_pal = t_coef_pal(n1, n2, theta1s, theta2s)\n",
    "        r_perp = r_coef_perp(n1, n2, theta1s, theta2s)\n",
    "        t_perp = t_coef_perp(n1, n2, theta1s, theta2s)\n",
    "        \n",
    "        brewster_ang = brewster(n1, n2) * 180/pi\n",
    "        critical_ang = critical(n1, n2) * 180/pi\n",
    "        \n",
    "        theta_degs = theta1s *180/np.pi\n",
    "        axes[0,0].set_title('$r_{\\parallel}$')\n",
    "        axes[0,0].set_xlabel(r'$\\theta_1 [deg]$')\n",
    "        axes[0,0].plot(theta_degs, abs(r_pal), label=f'{n1/n2=:.2f}')\n",
    "        # axes[0,0].set_xlim((0, pi/2-0.001))\n",
    "        axes[0,0].legend()\n",
    "        \n",
    "        axes[0,1].set_title('$r_{\\perp}$')\n",
    "        axes[0,1].set_xlabel(r'$\\theta_1 [deg]$')\n",
    "        axes[0,1].plot(theta_degs, abs(r_perp), label=f'{n1/n2=:.2f}')\n",
    "        axes[0,1].legend()\n",
    "        \n",
    "        axes[1,0].set_title('$t_{\\parallel}$')\n",
    "        axes[1,0].set_xlabel(r'$\\theta_1 [deg]$')\n",
    "        axes[1,0].plot(theta_degs, abs(t_pal), label=f'{n1/n2=:.2f}')\n",
    "        axes[1,0].legend()\n",
    "        \n",
    "        axes[1,1].set_title('$t_{\\perp}$')\n",
    "        axes[1,1].set_xlabel(r'$\\theta_1 [deg]$')\n",
    "        axes[1,1].plot(theta_degs, abs(t_perp), label=f'{n1/n2=:.2f}')\n",
    "        axes[1,1].legend()\n",
    "        print(f'{n1=:.2f}, {n2=:.2f}')\n",
    "        print(f'{critical_ang=:.2f}')\n",
    "        print(f'{brewster_ang=:.2f}')\n",
    "    fig.show()"
   ],
   "id": "744d2e4020804a18",
   "outputs": [],
   "execution_count": null
  },
  {
   "metadata": {},
   "cell_type": "markdown",
   "source": "# Q4 ",
   "id": "365ec1c0d8e9aa05"
  },
  {
   "metadata": {},
   "cell_type": "code",
   "source": [
    "n1 =1 \n",
    "n2s = [1.3, 1.5]\n",
    "\n",
    "theta1s = np.linspace(0, pi/2-0.001, 1000)\n",
    "fig, axes = plt.subplots(1, 2, constrained_layout=True)\n",
    "\n",
    "for n2 in n2s:\n",
    "    theta2s = np.ones_like(theta1s, dtype=np.complex128)*np.pi/2  # Allow for complex values\n",
    "    valid = np.sin(theta1s) < (n2/n1)  # Valid range for arcsin \n",
    "    theta2s[valid] = np.arcsin( (n1/n2) * np.sin(theta1s[valid]) )\n",
    "    \n",
    "    r_pal = abs(r_coef_pal(n1, n2, theta1s, theta2s))\n",
    "    r_perp = abs(r_coef_perp(n1, n2, theta1s, theta2s))\n",
    "    \n",
    "    theta_degs = theta1s *180/np.pi\n",
    "    axes[0].set_title(r'$\\frac{r_{\\perp}}{r_{\\parallel}}$', fontsize=16, fontweight='bold')\n",
    "    axes[0].set_xlabel(r'$\\theta_1 [deg]$')\n",
    "    axes[0].plot(theta_degs, r_perp/r_pal, label=f'{n2=:.2f}')\n",
    "    axes[0].legend()\n",
    "    \n",
    "    axes[1].set_title(r'$\\frac{\\left|r_{\\parallel}\\right|-\\left|r_{\\perp}\\right|}{\\left|r_{\\parallel}\\right|+\\left|r_{\\perp}\\right|}$', fontsize=16, fontweight='bold')\n",
    "    axes[1].set_xlabel(r'$\\theta_1 [deg]$')\n",
    "    axes[1].plot(theta_degs, (r_pal-r_perp)/(r_pal+r_perp), label=f'{n2=:.2f}')\n",
    "    axes[1].legend()"
   ],
   "id": "21138eb519d17b02",
   "outputs": [],
   "execution_count": null
  },
  {
   "metadata": {},
   "cell_type": "markdown",
   "source": "# Q7",
   "id": "a6ecc4bcd6d09e14"
  },
  {
   "metadata": {},
   "cell_type": "code",
   "source": [
    "n1 = 1 \n",
    "n1um = 0.22769 + 6.4731j\n",
    "n055um = 0.42415 + 2.4721j\n",
    "n02um = 1.3300 + 1.2555j \n",
    "\n",
    "\n",
    "print(fr'theta_1=0')\n",
    "for n2 in [n1um, n055um, n02um]:\n",
    "    r_pal = r_coef_pal(n1, n2, 0, 0)\n",
    "    r_perp = r_coef_perp(n1, n2, 0, 0)\n",
    "    print(f'{r_pal=:.2f}, {r_perp=:.2f}')\n",
    "    \n",
    "print(fr'theta_1=pi/4')\n",
    "for n2 in [n1um, n055um, n02um]:\n",
    "    theta2_45 = np.arcsin((n1/n055um) * np.sin(45*pi/180))\n",
    "    r_pal = r_coef_pal(n1, n2, pi/4, theta2_45)\n",
    "    r_perp = r_coef_perp(n1, n2, pi/4, theta2_45)\n",
    "    print(f'{r_pal=:.3f}, {r_perp=:.3f}')"
   ],
   "id": "4c7d6f2e911a261c",
   "outputs": [],
   "execution_count": null
  }
 ],
 "metadata": {
  "kernelspec": {
   "display_name": "Python 3",
   "language": "python",
   "name": "python3"
  },
  "language_info": {
   "codemirror_mode": {
    "name": "ipython",
    "version": 2
   },
   "file_extension": ".py",
   "mimetype": "text/x-python",
   "name": "python",
   "nbconvert_exporter": "python",
   "pygments_lexer": "ipython2",
   "version": "2.7.6"
  }
 },
 "nbformat": 4,
 "nbformat_minor": 5
}
