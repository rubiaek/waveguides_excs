{
 "cells": [
  {
   "metadata": {},
   "cell_type": "markdown",
   "source": "# Consts",
   "id": "24d0e1cceb9a0bf6"
  },
  {
   "cell_type": "code",
   "id": "initial_id",
   "metadata": {
    "collapsed": true,
    "ExecuteTime": {
     "end_time": "2024-11-18T09:27:00.569477Z",
     "start_time": "2024-11-18T09:27:00.565582Z"
    }
   },
   "source": [
    "import numpy as np \n",
    "pi = np.pi \n",
    "\n",
    "eps0 = 8.854e-12\n",
    "mu0 = 4*pi*1e-7"
   ],
   "outputs": [],
   "execution_count": 48
  },
  {
   "metadata": {},
   "cell_type": "markdown",
   "source": "## Q1",
   "id": "a4fbbf8670f4d0f3"
  },
  {
   "metadata": {
    "ExecuteTime": {
     "end_time": "2024-11-17T09:31:18.275045Z",
     "start_time": "2024-11-17T09:31:18.270372Z"
    }
   },
   "cell_type": "code",
   "source": [
    "e_r = 40*eps0\n",
    "e_I = 40*0.3*eps0\n",
    "\n",
    "# Kalkar\n",
    "# e_r = 40*eps0\n",
    "# e_I = 40*0.3e-4*eps0\n",
    "\n",
    "f = 2.5e9 \n",
    "w = 2*np.pi*f"
   ],
   "id": "3ab6be03f181590c",
   "outputs": [],
   "execution_count": 30
  },
  {
   "metadata": {
    "ExecuteTime": {
     "end_time": "2024-11-17T09:31:18.432459Z",
     "start_time": "2024-11-17T09:31:18.424792Z"
    }
   },
   "cell_type": "code",
   "source": [
    "print(f'{e_r*w}')\n",
    "sig = w*e_I \n",
    "print(f'{sig=}')"
   ],
   "id": "8e1d33e655f6a501",
   "outputs": [
    {
     "name": "stdout",
     "output_type": "stream",
     "text": [
      "5.563132270976805\n",
      "sig=1.6689396812930415\n"
     ]
    }
   ],
   "execution_count": 31
  },
  {
   "metadata": {
    "ExecuteTime": {
     "end_time": "2024-11-17T09:31:18.583871Z",
     "start_time": "2024-11-17T09:31:18.574859Z"
    }
   },
   "cell_type": "code",
   "source": [
    "k_I_sqr = 0.5*mu0*e_r*w**2 * ((1 + (sig/(w*e_r))**2)**0.5 - 1 )\n",
    "print(f'{k_I_sqr=}')\n",
    "delta = 1/np.sqrt(k_I_sqr)\n",
    "print(f'{delta=}')"
   ],
   "id": "46b02eca554c199b",
   "outputs": [
    {
     "name": "stdout",
     "output_type": "stream",
     "text": [
      "k_I_sqr=2417.5431640120382\n",
      "delta=0.02033821722365701\n"
     ]
    }
   ],
   "execution_count": 32
  },
  {
   "metadata": {
    "ExecuteTime": {
     "end_time": "2024-11-17T09:31:18.743108Z",
     "start_time": "2024-11-17T09:31:18.730434Z"
    }
   },
   "cell_type": "code",
   "source": [
    "L_P = 10*np.log10(np.e ** -2)\n",
    "print(f'{L_P=}')"
   ],
   "id": "96d3e93dfb70bfd8",
   "outputs": [
    {
     "name": "stdout",
     "output_type": "stream",
     "text": [
      "L_P=-8.685889638065037\n"
     ]
    }
   ],
   "execution_count": 33
  },
  {
   "metadata": {},
   "cell_type": "markdown",
   "source": "## Q2",
   "id": "3ca3319adcb705bc"
  },
  {
   "metadata": {
    "ExecuteTime": {
     "end_time": "2024-11-17T09:31:19.036586Z",
     "start_time": "2024-11-17T09:31:19.024836Z"
    }
   },
   "cell_type": "code",
   "source": [
    "sig = 3.54e7 \n",
    "f = 100e6 \n",
    "w = 2*pi*f\n",
    "\n",
    "print(f'{sig=}')\n",
    "print(f'{eps0*w=}')"
   ],
   "id": "1846a8a40a1c0ca1",
   "outputs": [
    {
     "name": "stdout",
     "output_type": "stream",
     "text": [
      "sig=35400000.0\n",
      "eps0*w=0.0055631322709768045\n"
     ]
    }
   ],
   "execution_count": 34
  },
  {
   "metadata": {
    "ExecuteTime": {
     "end_time": "2024-11-17T09:31:19.242363Z",
     "start_time": "2024-11-17T09:31:19.236858Z"
    }
   },
   "cell_type": "code",
   "source": [
    "delta = (2/(mu0*w*sig))**0.5\n",
    "print(f'{delta=}')\n",
    "print(f'{5*delta=}')\n"
   ],
   "id": "8d9b7b9e01753cb3",
   "outputs": [
    {
     "name": "stdout",
     "output_type": "stream",
     "text": [
      "delta=8.45898978732035e-06\n",
      "5*delta=4.229494893660175e-05\n"
     ]
    }
   ],
   "execution_count": 35
  },
  {
   "metadata": {},
   "cell_type": "markdown",
   "source": "## Q3",
   "id": "97102025c1687c84"
  },
  {
   "metadata": {
    "ExecuteTime": {
     "end_time": "2024-11-17T09:45:15.488791Z",
     "start_time": "2024-11-17T09:45:15.476124Z"
    }
   },
   "cell_type": "code",
   "source": [
    "sig = 5.813e7 \n",
    "f = 100e6 \n",
    "w = 2*pi*f\n",
    "print(f'{sig=}')\n",
    "print(f'{eps0*w=}')\n",
    "\n",
    "delta = (2/(mu0*w*sig))**0.5\n",
    "print(f'{delta=}')\n"
   ],
   "id": "72fd9c551cd4a404",
   "outputs": [
    {
     "name": "stdout",
     "output_type": "stream",
     "text": [
      "sig=58130000.0\n",
      "eps0*w=0.0055631322709768045\n",
      "delta=6.601155603989029e-06\n"
     ]
    }
   ],
   "execution_count": 37
  },
  {
   "metadata": {
    "ExecuteTime": {
     "end_time": "2024-11-17T09:48:32.815482Z",
     "start_time": "2024-11-17T09:48:32.805559Z"
    }
   },
   "cell_type": "code",
   "source": [
    "z = -delta/2 * np.log(1e-9) \n",
    "print(f'{z=}')"
   ],
   "id": "f60ddfc46fa99908",
   "outputs": [
    {
     "name": "stdout",
     "output_type": "stream",
     "text": [
      "z=6.83987512062566e-05\n"
     ]
    }
   ],
   "execution_count": 38
  },
  {
   "metadata": {
    "ExecuteTime": {
     "end_time": "2024-11-17T09:55:47.878691Z",
     "start_time": "2024-11-17T09:55:47.867410Z"
    }
   },
   "cell_type": "code",
   "source": "90/8.69",
   "id": "dce1fdaaef1f3ae",
   "outputs": [
    {
     "data": {
      "text/plain": [
       "10.356731875719218"
      ]
     },
     "execution_count": 39,
     "metadata": {},
     "output_type": "execute_result"
    }
   ],
   "execution_count": 39
  },
  {
   "metadata": {
    "ExecuteTime": {
     "end_time": "2024-11-17T13:57:02.988284Z",
     "start_time": "2024-11-17T13:57:02.969147Z"
    }
   },
   "cell_type": "code",
   "source": "10.356*6.6",
   "id": "e49249f90b5de8c8",
   "outputs": [
    {
     "data": {
      "text/plain": [
       "68.3496"
      ]
     },
     "execution_count": 42,
     "metadata": {},
     "output_type": "execute_result"
    }
   ],
   "execution_count": 42
  },
  {
   "metadata": {},
   "cell_type": "markdown",
   "source": "## Q4 ",
   "id": "dfbade43a0be73d2"
  },
  {
   "metadata": {
    "ExecuteTime": {
     "end_time": "2024-11-18T09:40:08.544124Z",
     "start_time": "2024-11-18T09:40:08.540342Z"
    }
   },
   "cell_type": "code",
   "source": [
    "c0 = 3e8 \n",
    "\n",
    "e_r = 2.25\n",
    "n = np.sqrt(e_r)\n",
    "a = 1.3e-3 \n",
    "D = 4e-3\n",
    "wl = 20\n",
    "k = 2*pi/wl\n",
    "w = c0/n * k \n",
    "sig = 5.8e7 "
   ],
   "id": "b904016674ebe3f8",
   "outputs": [],
   "execution_count": 59
  },
  {
   "metadata": {
    "ExecuteTime": {
     "end_time": "2024-11-18T09:46:50.090050Z",
     "start_time": "2024-11-18T09:46:50.076772Z"
    }
   },
   "cell_type": "code",
   "source": [
    "L = mu0/pi * np.arccosh(D/(2*a))\n",
    "print(f'{L=}')\n",
    "\n",
    "C = pi*e_r*eps0 / (np.arccosh(D/(2*a)))\n",
    "print(f'{C=}')\n",
    "\n",
    "eta = np.sqrt(L/C)\n",
    "print(f'{eta=}')\n",
    "\n",
    "v1 = c0/n \n",
    "print(f'{n=}')\n",
    "print(f'{v1=}')\n",
    "v2 = 1/np.sqrt(L*C)\n",
    "print(f'{v2=}')\n",
    "\n",
    "print(f'{eps0*e_r*w=}')\n",
    "print(f'{sig=}')\n",
    "\n",
    "delta = np.sqrt(2/(mu0*w*sig))\n",
    "print(f'{delta=}')\n",
    "Rs = 1/(sig*delta)\n",
    "print(f'{Rs=}')\n",
    "R = Rs/(pi*a)\n",
    "print(f'{R=}')"
   ],
   "id": "5715d2cb8e1a4a4b",
   "outputs": [
    {
     "name": "stdout",
     "output_type": "stream",
     "text": [
      "L=3.984237369771828e-07\n",
      "C=6.28328407572496e-11\n",
      "eta=79.63046553279251\n",
      "n=1.5\n",
      "v1=200000000.0\n",
      "v2=199863758.46214417\n",
      "eps0*e_r*w=0.001251704760969781\n",
      "sig=58000000.0\n",
      "delta=2.089806784938892e-05\n",
      "Rs=0.0008250226496823715\n",
      "R=0.2020098967072655\n"
     ]
    }
   ],
   "execution_count": 62
  },
  {
   "metadata": {
    "ExecuteTime": {
     "end_time": "2024-11-18T09:40:10.465186Z",
     "start_time": "2024-11-18T09:40:10.459639Z"
    }
   },
   "cell_type": "code",
   "source": "",
   "id": "4c93f32c50507ed3",
   "outputs": [
    {
     "name": "stdout",
     "output_type": "stream",
     "text": [
      "0.001251704760969781\n",
      "58000000.0\n"
     ]
    }
   ],
   "execution_count": 60
  }
 ],
 "metadata": {
  "kernelspec": {
   "display_name": "Python 3",
   "language": "python",
   "name": "python3"
  },
  "language_info": {
   "codemirror_mode": {
    "name": "ipython",
    "version": 2
   },
   "file_extension": ".py",
   "mimetype": "text/x-python",
   "name": "python",
   "nbconvert_exporter": "python",
   "pygments_lexer": "ipython2",
   "version": "2.7.6"
  }
 },
 "nbformat": 4,
 "nbformat_minor": 5
}
