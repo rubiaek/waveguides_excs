{
 "cells": [
  {
   "metadata": {},
   "cell_type": "markdown",
   "source": "# Consts",
   "id": "24d0e1cceb9a0bf6"
  },
  {
   "cell_type": "code",
   "id": "initial_id",
   "metadata": {
    "collapsed": true,
    "ExecuteTime": {
     "end_time": "2024-11-17T09:31:17.915323Z",
     "start_time": "2024-11-17T09:31:17.906889Z"
    }
   },
   "source": [
    "import numpy as np \n",
    "pi = np.pi \n",
    "\n",
    "eps0 = 8.854e-12\n",
    "mu0 = 4*pi*1e-7"
   ],
   "outputs": [],
   "execution_count": 29
  },
  {
   "metadata": {},
   "cell_type": "markdown",
   "source": "## Q1",
   "id": "a4fbbf8670f4d0f3"
  },
  {
   "metadata": {
    "ExecuteTime": {
     "end_time": "2024-11-17T09:31:18.275045Z",
     "start_time": "2024-11-17T09:31:18.270372Z"
    }
   },
   "cell_type": "code",
   "source": [
    "e_r = 40*eps0\n",
    "e_I = 40*0.3*eps0\n",
    "\n",
    "# Kalkar\n",
    "# e_r = 40*eps0\n",
    "# e_I = 40*0.3e-4*eps0\n",
    "\n",
    "f = 2.5e9 \n",
    "w = 2*np.pi*f"
   ],
   "id": "3ab6be03f181590c",
   "outputs": [],
   "execution_count": 30
  },
  {
   "metadata": {
    "ExecuteTime": {
     "end_time": "2024-11-17T09:31:18.432459Z",
     "start_time": "2024-11-17T09:31:18.424792Z"
    }
   },
   "cell_type": "code",
   "source": [
    "print(f'{e_r*w}')\n",
    "sig = w*e_I \n",
    "print(f'{sig=}')"
   ],
   "id": "8e1d33e655f6a501",
   "outputs": [
    {
     "name": "stdout",
     "output_type": "stream",
     "text": [
      "5.563132270976805\n",
      "sig=1.6689396812930415\n"
     ]
    }
   ],
   "execution_count": 31
  },
  {
   "metadata": {
    "ExecuteTime": {
     "end_time": "2024-11-17T09:31:18.583871Z",
     "start_time": "2024-11-17T09:31:18.574859Z"
    }
   },
   "cell_type": "code",
   "source": [
    "k_I_sqr = 0.5*mu0*e_r*w**2 * ((1 + (sig/(w*e_r))**2)**0.5 - 1 )\n",
    "print(f'{k_I_sqr=}')\n",
    "delta = 1/np.sqrt(k_I_sqr)\n",
    "print(f'{delta=}')"
   ],
   "id": "46b02eca554c199b",
   "outputs": [
    {
     "name": "stdout",
     "output_type": "stream",
     "text": [
      "k_I_sqr=2417.5431640120382\n",
      "delta=0.02033821722365701\n"
     ]
    }
   ],
   "execution_count": 32
  },
  {
   "metadata": {
    "ExecuteTime": {
     "end_time": "2024-11-17T09:31:18.743108Z",
     "start_time": "2024-11-17T09:31:18.730434Z"
    }
   },
   "cell_type": "code",
   "source": [
    "L_P = 10*np.log10(np.e ** -2)\n",
    "print(f'{L_P=}')"
   ],
   "id": "96d3e93dfb70bfd8",
   "outputs": [
    {
     "name": "stdout",
     "output_type": "stream",
     "text": [
      "L_P=-8.685889638065037\n"
     ]
    }
   ],
   "execution_count": 33
  },
  {
   "metadata": {},
   "cell_type": "markdown",
   "source": "## Q2",
   "id": "3ca3319adcb705bc"
  },
  {
   "metadata": {
    "ExecuteTime": {
     "end_time": "2024-11-17T09:31:19.036586Z",
     "start_time": "2024-11-17T09:31:19.024836Z"
    }
   },
   "cell_type": "code",
   "source": [
    "sig = 3.54e7 \n",
    "f = 100e6 \n",
    "w = 2*pi*f\n",
    "\n",
    "print(f'{sig=}')\n",
    "print(f'{eps0*w=}')"
   ],
   "id": "1846a8a40a1c0ca1",
   "outputs": [
    {
     "name": "stdout",
     "output_type": "stream",
     "text": [
      "sig=35400000.0\n",
      "eps0*w=0.0055631322709768045\n"
     ]
    }
   ],
   "execution_count": 34
  },
  {
   "metadata": {
    "ExecuteTime": {
     "end_time": "2024-11-17T09:31:19.242363Z",
     "start_time": "2024-11-17T09:31:19.236858Z"
    }
   },
   "cell_type": "code",
   "source": [
    "delta = (2/(mu0*w*sig))**0.5\n",
    "print(f'{delta=}')\n",
    "print(f'{5*delta=}')\n"
   ],
   "id": "8d9b7b9e01753cb3",
   "outputs": [
    {
     "name": "stdout",
     "output_type": "stream",
     "text": [
      "delta=8.45898978732035e-06\n",
      "5*delta=4.229494893660175e-05\n"
     ]
    }
   ],
   "execution_count": 35
  }
 ],
 "metadata": {
  "kernelspec": {
   "display_name": "Python 3",
   "language": "python",
   "name": "python3"
  },
  "language_info": {
   "codemirror_mode": {
    "name": "ipython",
    "version": 2
   },
   "file_extension": ".py",
   "mimetype": "text/x-python",
   "name": "python",
   "nbconvert_exporter": "python",
   "pygments_lexer": "ipython2",
   "version": "2.7.6"
  }
 },
 "nbformat": 4,
 "nbformat_minor": 5
}
